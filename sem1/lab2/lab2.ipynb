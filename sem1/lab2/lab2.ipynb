{
 "cells": [
  {
   "cell_type": "markdown",
   "metadata": {},
   "source": [
    "Вариант:\n",
    "![Задача](task.png)\n",
    "\n",
    "\n",
    "Решить выбранную СЛАУ следующими методами (постараться избежать умножения матриц, использовать поэлементные записи, методичек накидал, где посмотреть): \n",
    "\n",
    "1) метод Гаусса с выбором главного элемента\n",
    "2) метод LU-разложения (если применим)\n",
    "3) метод Якоби\n",
    "4) метод Зейделя\n",
    "5) метод верхней релаксации\n",
    "6) * Метод градиентного спуска\n",
    "7) * Метод минимальных невязок\n",
    "8) * Стабилизированный метод\n",
    "бисопряженных градиентов\n",
    "\n",
    "*Для итерационных методов получить график убывания невязки в зависимости от итерации."
   ]
  },
  {
   "cell_type": "code",
   "execution_count": 99,
   "metadata": {},
   "outputs": [],
   "source": [
    "# импорт необходимых библиотек и задание исследуемой СЛАУ\n",
    "import numpy as np\n",
    "\n",
    "n = 100\n",
    "a = b = 10\n",
    "A = np.zeros((n, n))\n",
    "\n",
    "for i in range(n):\n",
    "    A[i, i] = a\n",
    "    if i + 1 < n:\n",
    "        A[i, i+1] = 1\n",
    "        A[i+1, i] = 1\n",
    "    if i + 2 < n:\n",
    "        A[i, i+2] = 1 / b\n",
    "        \n",
    "f = np.arange(1, n+1)"
   ]
  },
  {
   "cell_type": "markdown",
   "metadata": {},
   "source": [
    "# Метод Гаусса с выбором главного элемента"
   ]
  },
  {
   "cell_type": "code",
   "execution_count": 91,
   "metadata": {},
   "outputs": [],
   "source": [
    "def gauss_with_pivoting(A, f):\n",
    "    n = len(f)\n",
    "    \n",
    "    for i in range(n):\n",
    "        max_elem_row = np.argmax(np.abs(A[i:, i])) + i\n",
    "        if A[max_elem_row, i] == 0:\n",
    "            raise ValueError(\"Матрица вырождена!\")\n",
    "        if max_elem_row != i:\n",
    "            A[[i, max_elem_row]] = A[[max_elem_row, i]]\n",
    "            f[[i, max_elem_row]] = f[[max_elem_row, i]]\n",
    "        \n",
    "        pivot = A[i, i]\n",
    "        A[i] = A[i] / pivot\n",
    "        f[i] = f[i] / pivot\n",
    "        \n",
    "        for j in range(i + 1, n):\n",
    "            factor = A[j, i]\n",
    "            A[j] = A[j] - factor * A[i]\n",
    "            f[j] = f[j] - factor * f[i]\n",
    "\n",
    "    x = np.zeros(n)\n",
    "    for i in range(n - 1, -1, -1):\n",
    "        x[i] = f[i] - np.dot(A[i, i + 1:], x[i + 1:])\n",
    "    \n",
    "    return x\n"
   ]
  },
  {
   "cell_type": "code",
   "execution_count": 92,
   "metadata": {},
   "outputs": [
    {
     "data": {
      "text/plain": [
       "np.float64(9.7999)"
      ]
     },
     "execution_count": 92,
     "metadata": {},
     "output_type": "execute_result"
    }
   ],
   "source": [
    "A_copy = A.copy()\n",
    "f_copy = f.copy()\n",
    "\n",
    "u = gauss_with_pivoting(A_copy, f_copy)\n",
    "\n",
    "#проверка\n",
    "diff = np.dot(A, u) - f\n",
    "max_error = round(np.max(np.abs(diff)), 4)\n",
    "\n",
    "max_error"
   ]
  },
  {
   "cell_type": "markdown",
   "metadata": {},
   "source": [
    "# LU-разложение"
   ]
  },
  {
   "cell_type": "code",
   "execution_count": 93,
   "metadata": {},
   "outputs": [],
   "source": [
    "def lu_decomposition(A):\n",
    "    n = len(A)\n",
    "    L = np.zeros_like(A)\n",
    "    U = np.zeros_like(A)\n",
    "    \n",
    "    for i in range(n):\n",
    "        L[i, i] = 1\n",
    "        for j in range(i, n):\n",
    "            U[i, j] = A[i, j] - np.dot(L[i, :i], U[:i, j])\n",
    "        for j in range(i + 1, n):\n",
    "            if U[i, i] == 0:\n",
    "                raise ValueError(\"Нулевой элемент на главной диагонали, невозможно выполнить разложение!\")\n",
    "            L[j, i] = (A[j, i] - np.dot(L[j, :i], U[:i, i])) / U[i, i]\n",
    "    \n",
    "    return L, U\n",
    "\n",
    "def forward_substitution(L, b):\n",
    "    n = len(b)\n",
    "    y = np.zeros_like(b)\n",
    "    for i in range(n):\n",
    "        y[i] = b[i] - np.dot(L[i, :i], y[:i])\n",
    "    return y\n",
    "\n",
    "def backward_substitution(U, y):\n",
    "    n = len(y)\n",
    "    x = np.zeros_like(y)\n",
    "    for i in range(n-1, -1, -1):\n",
    "        if U[i, i] == 0:\n",
    "            raise ValueError(\"Нулевой элемент на главной диагонали, невозможно выполнить обратную подстановку!\")\n",
    "        x[i] = (y[i] - np.dot(U[i, i+1:], x[i+1:])) / U[i, i]\n",
    "    return x"
   ]
  },
  {
   "cell_type": "code",
   "execution_count": 102,
   "metadata": {},
   "outputs": [
    {
     "data": {
      "text/plain": [
       "np.float64(10.9)"
      ]
     },
     "execution_count": 102,
     "metadata": {},
     "output_type": "execute_result"
    }
   ],
   "source": [
    "A_copy = A.copy()\n",
    "f_copy = f.copy()\n",
    "\n",
    "L, U = lu_decomposition(A_copy)\n",
    "\n",
    "y = forward_substitution(L, f_copy)\n",
    "u = backward_substitution(U, y)\n",
    "\n",
    "#проверка\n",
    "diff = np.dot(A, u) - f\n",
    "max_error = round(np.max(np.abs(diff)), 4)\n",
    "\n",
    "max_error"
   ]
  },
  {
   "cell_type": "markdown",
   "metadata": {},
   "source": [
    "## отмасштабироуем матрицу"
   ]
  },
  {
   "cell_type": "code",
   "execution_count": 101,
   "metadata": {},
   "outputs": [],
   "source": [
    "def scale_matrix(A, f):\n",
    "    n = A.shape[0]\n",
    "    for i in range(n):\n",
    "        max_val = np.max(np.abs(A[i, :]))\n",
    "        if max_val > 0:\n",
    "            A[i, :] = A[i, :] / max_val\n",
    "            f[i] = f[i] / max_val\n",
    "    return A, f"
   ]
  },
  {
   "cell_type": "code",
   "execution_count": 106,
   "metadata": {},
   "outputs": [
    {
     "data": {
      "text/plain": [
       "np.float64(0.0)"
      ]
     },
     "execution_count": 106,
     "metadata": {},
     "output_type": "execute_result"
    }
   ],
   "source": [
    "A_scaled, f_scaled = scale_matrix(A.copy(), f.copy())\n",
    "\n",
    "u = gauss_with_pivoting(A_scaled, f_scaled)\n",
    "\n",
    "diff = np.dot(A_scaled, u) - f_scaled\n",
    "max_error = round(np.max(np.abs(diff)), 4)\n",
    "\n",
    "max_error"
   ]
  },
  {
   "cell_type": "code",
   "execution_count": 107,
   "metadata": {},
   "outputs": [
    {
     "data": {
      "text/plain": [
       "np.float64(1.9)"
      ]
     },
     "execution_count": 107,
     "metadata": {},
     "output_type": "execute_result"
    }
   ],
   "source": [
    "A_scaled, f_scaled = scale_matrix(A.copy(), f.copy())\n",
    "L, U = lu_decomposition(A_scaled)\n",
    "\n",
    "y = forward_substitution(L, f_scaled)\n",
    "u = backward_substitution(U, y)\n",
    "\n",
    "diff = np.dot(A_scaled, u) - f_scaled\n",
    "max_error = round(np.max(np.abs(diff)), 4)\n",
    "\n",
    "max_error"
   ]
  },
  {
   "cell_type": "markdown",
   "metadata": {},
   "source": [
    "# Итерационные методы"
   ]
  },
  {
   "cell_type": "code",
   "execution_count": 87,
   "metadata": {},
   "outputs": [],
   "source": [
    "import matplotlib.pyplot as plt\n",
    "\n",
    "# подсчет невязки\n",
    "def calculate_residual(A, u, f):\n",
    "    return np.linalg.norm(np.dot(A, u) - f)\n",
    "\n",
    "def jacobi(A, f, tol=1e-16, max_iterations=60):\n",
    "    n = len(f)\n",
    "    x = np.zeros(n)\n",
    "    x_new = np.zeros(n)\n",
    "    residuals = []\n",
    "    \n",
    "    for k in range(max_iterations):\n",
    "        for i in range(n):\n",
    "            sum1 = sum(A[i, j] * x[j] for j in range(n) if j != i)  \n",
    "            x_new[i] = (f[i] - sum1) / A[i, i]\n",
    "        \n",
    "        residual = np.linalg.norm(np.dot(A, x_new) - f)\n",
    "        residuals.append(residual)\n",
    "        \n",
    "        if residual < tol:\n",
    "            break\n",
    "        \n",
    "        x[:] = x_new[:]\n",
    "    \n",
    "    return x, residuals\n",
    "\n",
    "def seidel(A, f, tol=1e-16, max_iterations=60):\n",
    "    n = len(f)\n",
    "    x = np.zeros(n)\n",
    "    residuals = []\n",
    "    \n",
    "    for k in range(max_iterations):\n",
    "        for i in range(n):\n",
    "            sum1 = sum(A[i, j] * x[j] for j in range(i))     \n",
    "            sum2 = sum(A[i, j] * x[j] for j in range(i + 1, n))  \n",
    "            x[i] = (f[i] - sum1 - sum2) / A[i, i]\n",
    "        \n",
    "        residual = np.linalg.norm(np.dot(A, x) - f)\n",
    "        residuals.append(residual)\n",
    "        \n",
    "        if residual < tol:\n",
    "            break\n",
    "    \n",
    "    return x, residuals\n",
    "\n",
    "def sor(A, f, omega=1.25, tol=1e-16, max_iterations=60):\n",
    "    n = len(f)\n",
    "    x = np.zeros(n)\n",
    "    residuals = []\n",
    "    \n",
    "    for k in range(max_iterations):\n",
    "        x_new = np.copy(x)\n",
    "        for i in range(n):\n",
    "            sum1 = sum(A[i, j] * x_new[j] for j in range(i))     \n",
    "            sum2 = sum(A[i, j] * x[j] for j in range(i + 1, n))  \n",
    "            x_new[i] = (1 - omega) * x[i] + (omega / A[i, i]) * (f[i] - sum1 - sum2)\n",
    "        \n",
    "        residual = np.linalg.norm(np.dot(A, x_new) - f)\n",
    "        residuals.append(residual)\n",
    "        \n",
    "        if residual < tol:\n",
    "            break\n",
    "        \n",
    "        x[:] = x_new[:]\n",
    "    \n",
    "    return x, residuals\n",
    "\n",
    "def gradient_descent(A, f, tol=1e-16, max_iterations=60):\n",
    "    n = len(f)\n",
    "    u = np.zeros(n)\n",
    "    residuals = []\n",
    "    \n",
    "    for i in range(max_iterations):\n",
    "        r = f - np.dot(A, u)\n",
    "        alpha = np.dot(r, r) / np.dot(np.dot(A, r), r)\n",
    "        u = u + alpha * r\n",
    "        \n",
    "        residual = calculate_residual(A, u, f)\n",
    "        residuals.append(residual)\n",
    "        \n",
    "        if residual < tol:\n",
    "            break\n",
    "    \n",
    "    return u, residuals\n",
    "\n",
    "def least_squares(A, f, tol=1e-16, max_iterations=60):\n",
    "    n = len(f)\n",
    "    u = np.zeros(n)\n",
    "    residuals = []\n",
    "    \n",
    "    for i in range(max_iterations):\n",
    "        r = f - np.dot(A, u)\n",
    "        Ar = np.dot(A, r)\n",
    "        alpha = np.dot(Ar, r) / np.dot(Ar, Ar)\n",
    "        u = u + alpha * r\n",
    "        \n",
    "        residual = calculate_residual(A, u, f)\n",
    "        residuals.append(residual)\n",
    "        \n",
    "        if residual < tol:\n",
    "            break\n",
    "    \n",
    "    return u, residuals\n",
    "\n",
    "def bicgstab(A, b, tol=1e-16, max_iterations=60):\n",
    "    n = len(b)\n",
    "    x = np.zeros(n)\n",
    "    r = b - np.dot(A, x)  \n",
    "    r_hat = np.copy(r)     \n",
    "    \n",
    "    residuals = []\n",
    "    \n",
    "    rho_old = alpha = omega = 1.0\n",
    "    v = p = np.zeros(n)\n",
    "    \n",
    "    for i in range(max_iterations):\n",
    "        rho_new = np.dot(r_hat, r)\n",
    "        if rho_new == 0:\n",
    "            raise ValueError(\"Метод не может решить данную систему (ρ = 0)\")\n",
    "        \n",
    "        if i == 0:\n",
    "            p = np.copy(r)\n",
    "        else:\n",
    "            beta = (rho_new / rho_old) * (alpha / omega)\n",
    "            p = r + beta * (p - omega * v)\n",
    "        \n",
    "        v = np.dot(A, p)\n",
    "        alpha = rho_new / np.dot(r_hat, v)\n",
    "        s = r - alpha * v\n",
    "        \n",
    "        if np.linalg.norm(s) / np.linalg.norm(b) < tol:\n",
    "            x = x + alpha * p\n",
    "            residuals.append(np.linalg.norm(s) / np.linalg.norm(b))\n",
    "            break\n",
    "        \n",
    "        t = np.dot(A, s)\n",
    "        omega = np.dot(t, s) / np.dot(t, t)\n",
    "        x = x + alpha * p + omega * s\n",
    "        \n",
    "        r = s - omega * t\n",
    "        \n",
    "        residuals.append(np.linalg.norm(r) / np.linalg.norm(b))\n",
    "        \n",
    "        if np.linalg.norm(r) / np.linalg.norm(b) < tol:\n",
    "            break\n",
    "        \n",
    "        rho_old = rho_new\n",
    "    \n",
    "    return x, residuals\n"
   ]
  },
  {
   "cell_type": "code",
   "execution_count": 108,
   "metadata": {},
   "outputs": [
    {
     "data": {
      "image/png": "[encoded data removed]",
      "text/plain": [
       "<Figure size 1000x600 with 1 Axes>"
      ]
     },
     "metadata": {},
     "output_type": "display_data"
    }
   ],
   "source": [
    "methods = {\n",
    "    \"Jacobi\": jacobi,\n",
    "    \"Seidel\": seidel,\n",
    "    \"SOR\": sor,\n",
    "    \"Gradient Descent\": gradient_descent,\n",
    "    \"Least Squares\": least_squares,\n",
    "    \"BiCGSTAB\": bicgstab\n",
    "}\n",
    "\n",
    "plt.figure(figsize=(10, 6))\n",
    "\n",
    "for method_name, method in methods.items():\n",
    "    _, residuals = method(A, f)\n",
    "    plt.plot(residuals, label=method_name)\n",
    "\n",
    "plt.yscale(\"log\")\n",
    "plt.xlabel(\"Итерации\")\n",
    "plt.ylabel(\"Невязка\")\n",
    "plt.title(\"Сравнение методов по убыванию невязки\")\n",
    "plt.legend()\n",
    "plt.grid(True)\n",
    "plt.show()"
   ]
  }
 ],
 "metadata": {
  "kernelspec": {
   "display_name": ".venv",
   "language": "python",
   "name": "python3"
  },
  "language_info": {
   "codemirror_mode": {
    "name": "ipython",
    "version": 3
   },
   "file_extension": ".py",
   "mimetype": "text/x-python",
   "name": "python",
   "nbconvert_exporter": "python",
   "pygments_lexer": "ipython3",
   "version": "3.10.12"
  }
 },
 "nbformat": 4,
 "nbformat_minor": 2
}
